{
 "cells": [
  {
   "cell_type": "code",
   "execution_count": 1,
   "metadata": {},
   "outputs": [],
   "source": [
    "import pandas as pd"
   ]
  },
  {
   "cell_type": "code",
   "execution_count": 32,
   "metadata": {},
   "outputs": [
    {
     "name": "stdout",
     "output_type": "stream",
     "text": [
      "        ID        Date   Category  Invoice Number  Product Code  \\\n",
      "0  2529604  28/04/2019  Category5             267      30011006   \n",
      "1  2529605  29/04/2019  Category5             302      30011006   \n",
      "2  2529606  13/05/2019  Category5             507      30011006   \n",
      "3  2529607  01/06/2019  Category5             795      30011006   \n",
      "4  2529608  03/07/2019  Category5            1184      30011006   \n",
      "\n",
      "   Customer Code Destenation  QTY  Total Price  \n",
      "0            612         IRQ  750    3334.8225  \n",
      "1            514         BHR  400    3032.8240  \n",
      "2            513         BHR  100     749.9520  \n",
      "3              5         SYC  100     556.8170  \n",
      "4            560         AFG   20      39.4460  \n"
     ]
    }
   ],
   "source": [
    "# Load data\n",
    "df = pd.read_csv('../data/ExportSales.csv')\n",
    "print(df.head())"
   ]
  },
  {
   "cell_type": "markdown",
   "metadata": {},
   "source": [
    "### Rename"
   ]
  },
  {
   "cell_type": "code",
   "execution_count": 36,
   "metadata": {},
   "outputs": [
    {
     "data": {
      "text/html": [
       "<div>\n",
       "<style scoped>\n",
       "    .dataframe tbody tr th:only-of-type {\n",
       "        vertical-align: middle;\n",
       "    }\n",
       "\n",
       "    .dataframe tbody tr th {\n",
       "        vertical-align: top;\n",
       "    }\n",
       "\n",
       "    .dataframe thead th {\n",
       "        text-align: right;\n",
       "    }\n",
       "</style>\n",
       "<table border=\"1\" class=\"dataframe\">\n",
       "  <thead>\n",
       "    <tr style=\"text-align: right;\">\n",
       "      <th></th>\n",
       "      <th>ID</th>\n",
       "      <th>Date</th>\n",
       "      <th>Category</th>\n",
       "      <th>Invoice Number</th>\n",
       "      <th>Product Code</th>\n",
       "      <th>Customer Code</th>\n",
       "      <th>Destination</th>\n",
       "      <th>QTY</th>\n",
       "      <th>Total Price</th>\n",
       "    </tr>\n",
       "  </thead>\n",
       "  <tbody>\n",
       "    <tr>\n",
       "      <th>0</th>\n",
       "      <td>2529604</td>\n",
       "      <td>28/04/2019</td>\n",
       "      <td>Category5</td>\n",
       "      <td>267</td>\n",
       "      <td>30011006</td>\n",
       "      <td>612</td>\n",
       "      <td>IRQ</td>\n",
       "      <td>750</td>\n",
       "      <td>3334.8225</td>\n",
       "    </tr>\n",
       "    <tr>\n",
       "      <th>1</th>\n",
       "      <td>2529605</td>\n",
       "      <td>29/04/2019</td>\n",
       "      <td>Category5</td>\n",
       "      <td>302</td>\n",
       "      <td>30011006</td>\n",
       "      <td>514</td>\n",
       "      <td>BHR</td>\n",
       "      <td>400</td>\n",
       "      <td>3032.8240</td>\n",
       "    </tr>\n",
       "    <tr>\n",
       "      <th>2</th>\n",
       "      <td>2529606</td>\n",
       "      <td>13/05/2019</td>\n",
       "      <td>Category5</td>\n",
       "      <td>507</td>\n",
       "      <td>30011006</td>\n",
       "      <td>513</td>\n",
       "      <td>BHR</td>\n",
       "      <td>100</td>\n",
       "      <td>749.9520</td>\n",
       "    </tr>\n",
       "    <tr>\n",
       "      <th>3</th>\n",
       "      <td>2529607</td>\n",
       "      <td>01/06/2019</td>\n",
       "      <td>Category5</td>\n",
       "      <td>795</td>\n",
       "      <td>30011006</td>\n",
       "      <td>5</td>\n",
       "      <td>SYC</td>\n",
       "      <td>100</td>\n",
       "      <td>556.8170</td>\n",
       "    </tr>\n",
       "    <tr>\n",
       "      <th>4</th>\n",
       "      <td>2529608</td>\n",
       "      <td>03/07/2019</td>\n",
       "      <td>Category5</td>\n",
       "      <td>1184</td>\n",
       "      <td>30011006</td>\n",
       "      <td>560</td>\n",
       "      <td>AFG</td>\n",
       "      <td>20</td>\n",
       "      <td>39.4460</td>\n",
       "    </tr>\n",
       "  </tbody>\n",
       "</table>\n",
       "</div>"
      ],
      "text/plain": [
       "        ID        Date   Category  Invoice Number  Product Code  \\\n",
       "0  2529604  28/04/2019  Category5             267      30011006   \n",
       "1  2529605  29/04/2019  Category5             302      30011006   \n",
       "2  2529606  13/05/2019  Category5             507      30011006   \n",
       "3  2529607  01/06/2019  Category5             795      30011006   \n",
       "4  2529608  03/07/2019  Category5            1184      30011006   \n",
       "\n",
       "   Customer Code Destination  QTY  Total Price  \n",
       "0            612         IRQ  750    3334.8225  \n",
       "1            514         BHR  400    3032.8240  \n",
       "2            513         BHR  100     749.9520  \n",
       "3              5         SYC  100     556.8170  \n",
       "4            560         AFG   20      39.4460  "
      ]
     },
     "execution_count": 36,
     "metadata": {},
     "output_type": "execute_result"
    }
   ],
   "source": [
    "df.rename({'Destenation': 'Destination'}, axis=1, inplace=True)\n",
    "df.head()"
   ]
  },
  {
   "cell_type": "markdown",
   "metadata": {},
   "source": [
    "### Date Format"
   ]
  },
  {
   "cell_type": "code",
   "execution_count": 37,
   "metadata": {},
   "outputs": [
    {
     "name": "stdout",
     "output_type": "stream",
     "text": [
      "0    28/04/2019\n",
      "1    29/04/2019\n",
      "2    13/05/2019\n",
      "3    01/06/2019\n",
      "4    03/07/2019\n",
      "Name: Date, dtype: object\n"
     ]
    }
   ],
   "source": [
    "# Change date formats (just to ensure all are in same format)\n",
    "\n",
    "# To confirm the current date format and type\n",
    "print(df['Date'].head())\n",
    "\n",
    "# Are there any rows with different date formats or non-date entries\n",
    "#print(df['Date'].unique())\n",
    "\n",
    "# Convert date strings to datetime objects\n",
    "#df['Date'] = pd.to_datetime(df['Date'], format='%d/%m/%Y')"
   ]
  },
  {
   "cell_type": "markdown",
   "metadata": {},
   "source": [
    "### Missing Values"
   ]
  },
  {
   "cell_type": "code",
   "execution_count": 38,
   "metadata": {},
   "outputs": [
    {
     "name": "stdout",
     "output_type": "stream",
     "text": [
      "Total missing values in each column in the DataFrame: ID                  0\n",
      "Date                0\n",
      "Category            0\n",
      "Invoice Number      0\n",
      "Product Code        0\n",
      "Customer Code       0\n",
      "Destination       110\n",
      "QTY                 0\n",
      "Total Price         0\n",
      "dtype: int64\n",
      "Total missing values in the DataFrame: 110\n"
     ]
    }
   ],
   "source": [
    "# Number of missing values per column\n",
    "print(f\"Total missing values in each column in the DataFrame: {df.isnull().sum()}\")\n",
    "\n",
    "total_missing = df.isnull().sum().sum()\n",
    "print(f\"Total missing values in the DataFrame: {total_missing}\")"
   ]
  },
  {
   "cell_type": "code",
   "execution_count": 40,
   "metadata": {},
   "outputs": [
    {
     "name": "stdout",
     "output_type": "stream",
     "text": [
      "Columns with missing data:\n",
      "['Destination']\n"
     ]
    }
   ],
   "source": [
    "columns_with_missing_data = df.columns[df.isnull().any()].tolist()\n",
    "print(\"Columns with missing data:\")\n",
    "print(columns_with_missing_data)\n"
   ]
  },
  {
   "cell_type": "code",
   "execution_count": 44,
   "metadata": {},
   "outputs": [
    {
     "name": "stdout",
     "output_type": "stream",
     "text": [
      "Total missing values in the DataFrame: 0\n"
     ]
    }
   ],
   "source": [
    "# Remove rows with missing destination\n",
    "#df = df.dropna(subset=['Destination'])\n",
    "\n",
    "# Replace NaN destination or missing destination with 'Unknown'\n",
    "df['Destination'] = df['Destination'].fillna('Unknown')\n",
    "\n",
    "total_missing = df.isnull().sum().sum()\n",
    "print(f\"Total missing values in the DataFrame: {total_missing}\")"
   ]
  },
  {
   "cell_type": "markdown",
   "metadata": {},
   "source": [
    "### Duplicates"
   ]
  },
  {
   "cell_type": "code",
   "execution_count": 52,
   "metadata": {},
   "outputs": [
    {
     "name": "stdout",
     "output_type": "stream",
     "text": [
      "Empty DataFrame\n",
      "Columns: [ID, Date, Category, Invoice Number, Product Code, Customer Code, Destination, QTY, Total Price]\n",
      "Index: []\n"
     ]
    }
   ],
   "source": [
    "# Looking for duplicates (all instances, therefore: keep=False)\n",
    "duplicates = df.duplicated(subset=['ID', 'Date', 'Invoice Number', 'Product Code'], keep=False)\n",
    "\n",
    "# Display the duplicates\n",
    "df_duplicates = df[duplicates]\n",
    "print(df_duplicates)"
   ]
  },
  {
   "cell_type": "markdown",
   "metadata": {},
   "source": [
    "### Data Integrity Checks"
   ]
  },
  {
   "cell_type": "code",
   "execution_count": 57,
   "metadata": {},
   "outputs": [
    {
     "ename": "AttributeError",
     "evalue": "'numpy.ndarray' object has no attribute 'len'",
     "output_type": "error",
     "traceback": [
      "\u001b[0;31m---------------------------------------------------------------------------\u001b[0m",
      "\u001b[0;31mAttributeError\u001b[0m                            Traceback (most recent call last)",
      "Cell \u001b[0;32mIn[57], line 11\u001b[0m\n\u001b[1;32m      8\u001b[0m \u001b[38;5;66;03m# Create a list of valid country codes\u001b[39;00m\n\u001b[1;32m      9\u001b[0m valid_codes \u001b[38;5;241m=\u001b[39m country_codes[\u001b[38;5;124m'\u001b[39m\u001b[38;5;124mAlpha-3 code\u001b[39m\u001b[38;5;124m'\u001b[39m]\u001b[38;5;241m.\u001b[39munique()\n\u001b[0;32m---> 11\u001b[0m \u001b[38;5;28mprint\u001b[39m(valid_codes\u001b[38;5;241m.\u001b[39mlen())\n",
      "\u001b[0;31mAttributeError\u001b[0m: 'numpy.ndarray' object has no attribute 'len'"
     ]
    }
   ],
   "source": [
    "# Validate that 'Destination' field has valid country codes\n",
    "\n",
    "# Load country codes\n",
    "country_codes = pd.read_csv('../data/CountryCodes.csv')\n",
    "\n",
    "country_codes.head()\n",
    "\n",
    "# Create a list of valid country codes\n",
    "valid_codes = country_codes['Alpha-3 code'].unique()\n",
    "\n",
    "print(length(valid_codes))"
   ]
  },
  {
   "cell_type": "code",
   "execution_count": null,
   "metadata": {},
   "outputs": [],
   "source": []
  }
 ],
 "metadata": {
  "kernelspec": {
   "display_name": "pyEnv11",
   "language": "python",
   "name": "python3"
  },
  "language_info": {
   "codemirror_mode": {
    "name": "ipython",
    "version": 3
   },
   "file_extension": ".py",
   "mimetype": "text/x-python",
   "name": "python",
   "nbconvert_exporter": "python",
   "pygments_lexer": "ipython3",
   "version": "3.11.9"
  },
  "orig_nbformat": 4
 },
 "nbformat": 4,
 "nbformat_minor": 2
}
